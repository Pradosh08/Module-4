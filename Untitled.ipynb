{
 "cells": [
  {
   "cell_type": "markdown",
   "id": "481a1ef9-3606-463f-8eed-0314929a51f0",
   "metadata": {},
   "source": [
    "## **My Jupyter Notebook in Watson Studio**"
   ]
  },
  {
   "cell_type": "markdown",
   "id": "03686bf7-b3ab-42fc-bd23-ecda1db53849",
   "metadata": {},
   "source": [
    "#### **Pradosh**\n",
    "##### Freelancer"
   ]
  },
  {
   "cell_type": "markdown",
   "id": "56c2da8b-dc97-4d75-a10f-4b76669e5077",
   "metadata": {},
   "source": [
    "#### *I am interested in Data Science because I like to Solve Complicated Codings and Problems*"
   ]
  },
  {
   "cell_type": "markdown",
   "id": "a5fd7c06-dcb1-49b7-8cb6-7c8f3fac30e8",
   "metadata": {},
   "source": [
    "### My Code is used to show Common addition, subtraction and Multiplication"
   ]
  },
  {
   "cell_type": "code",
   "execution_count": 1,
   "id": "67b3a063-a83d-4f0f-a03d-f32e6bad9c24",
   "metadata": {},
   "outputs": [
    {
     "name": "stdout",
     "output_type": "stream",
     "text": [
      "3 2 12\n"
     ]
    }
   ],
   "source": [
    "one = 1\n",
    "two = 2\n",
    "three = 3\n",
    "four = 4\n",
    "print(one + two, four - two, four * three)"
   ]
  },
  {
   "cell_type": "markdown",
   "id": "d8123076-1fea-4765-8e1a-6b56ba0b4bd0",
   "metadata": {},
   "source": [
    "|Name     |Place     |Age   |\n",
    "|---------|----------|------|\n",
    "|Raj      |Daman     |20    |\n",
    "|Jay      |Delhi     |21    |\n",
    "|Roy      |Pune      |65    |\n",
    "\n",
    "\n",
    "Bulleted list\n",
    " - list 1\n",
    " - list 2\n",
    " - list 3\n",
    " \n",
    " \n",
    " https://www.facebook.com/\n",
    "\n",
    "\n"
   ]
  },
  {
   "cell_type": "code",
   "execution_count": null,
   "id": "d40c3a8f-82ba-4f78-99a4-d1c7a03b95da",
   "metadata": {},
   "outputs": [],
   "source": []
  }
 ],
 "metadata": {
  "kernelspec": {
   "display_name": "Python",
   "language": "python",
   "name": "conda-env-python-py"
  },
  "language_info": {
   "codemirror_mode": {
    "name": "ipython",
    "version": 3
   },
   "file_extension": ".py",
   "mimetype": "text/x-python",
   "name": "python",
   "nbconvert_exporter": "python",
   "pygments_lexer": "ipython3",
   "version": "3.7.12"
  }
 },
 "nbformat": 4,
 "nbformat_minor": 5
}
